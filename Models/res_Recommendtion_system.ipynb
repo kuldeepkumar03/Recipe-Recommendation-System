{
 "cells": [
  {
   "cell_type": "code",
   "execution_count": 1,
   "id": "0e2aa8f1-e751-4d44-9f35-5631478e8538",
   "metadata": {},
   "outputs": [],
   "source": [
    "import pandas as pd\n",
    "from sklearn.feature_extraction.text import CountVectorizer\n",
    "from sklearn.metrics.pairwise import cosine_similarity\n",
    "import re\n",
    "from nltk.stem.porter import PorterStemmer"
   ]
  },
  {
   "cell_type": "code",
   "execution_count": 2,
   "id": "23153603-b4b9-4bf3-854f-03715223af56",
   "metadata": {},
   "outputs": [],
   "source": [
    "file_path = \"cleaned_recipes(Final_Dataset).csv\"\n",
    "recipes_df = pd.read_csv(file_path)"
   ]
  },
  {
   "cell_type": "code",
   "execution_count": 3,
   "id": "77276346-e69b-4216-b13d-24a9c970e727",
   "metadata": {},
   "outputs": [],
   "source": [
    "stemmer = PorterStemmer()"
   ]
  },
  {
   "cell_type": "code",
   "execution_count": 4,
   "id": "783d6b8c-f6e9-466e-898c-3ef654a357ee",
   "metadata": {},
   "outputs": [],
   "source": [
    "def preprocess_ingredients(ingredients):\n",
    "    # Lowercase the text\n",
    "    ingredients = ingredients.lower()\n",
    "    # Remove special characters and digits\n",
    "    ingredients = re.sub(r\"[^a-zA-Z\\s,]\", \"\", ingredients)\n",
    "    # Stemming each word\n",
    "    ingredients = \" \".join([stemmer.stem(word) for word in ingredients.split()])\n",
    "    return ingredients"
   ]
  },
  {
   "cell_type": "code",
   "execution_count": 5,
   "id": "11b3e9cd-e3c4-4dbf-9a60-955433c3014b",
   "metadata": {},
   "outputs": [
    {
     "data": {
      "text/plain": [
       "0    beans, carrot , green pea , potato , cucumber,...\n",
       "1    cucumber, carrot , sugar, rice vinegar,gingell...\n",
       "2    ladi finger , tamarind, turmer powder , coconu...\n",
       "3    black eye bean , eleph yam , turmer powder , j...\n",
       "4    chicken breasts, whole wheat bread crumbs, all...\n",
       "Name: Processed_Ingredients, dtype: object"
      ]
     },
     "execution_count": 5,
     "metadata": {},
     "output_type": "execute_result"
    }
   ],
   "source": [
    "recipes_df['Processed_Ingredients'] = recipes_df['Ingredients'].apply(preprocess_ingredients)\n",
    "recipes_df['Processed_Ingredients'].head()"
   ]
  },
  {
   "cell_type": "code",
   "execution_count": 6,
   "id": "d72aaef9-819b-4ee4-bedc-4fb961811ece",
   "metadata": {},
   "outputs": [
    {
     "name": "stdout",
     "output_type": "stream",
     "text": [
      "Total unique ingredients: 1341\n",
      "Unique ingredients saved to unique_ingredients.txt\n"
     ]
    }
   ],
   "source": [
    "all_ingredients = recipes_df['Ingredients'].str.split(',').explode().str.strip().drop_duplicates()\n",
    "ingredients_list = sorted(all_ingredients.tolist())\n",
    "print(f\"Total unique ingredients: {len(ingredients_list)}\")\n",
    "output_file_path = \"unique_ingredients.txt\"  # Replace with your desired output file path\n",
    "with open(output_file_path, \"w\",encoding=\"utf-8\") as file:\n",
    "    for ingredient in ingredients_list:\n",
    "        file.write(f\"{ingredient}\\n\")\n",
    "\n",
    "print(f\"Unique ingredients saved to {output_file_path}\")"
   ]
  },
  {
   "cell_type": "code",
   "execution_count": 7,
   "id": "65c66be8-f4ba-404c-a0dd-51ebc85df13e",
   "metadata": {},
   "outputs": [
    {
     "name": "stdout",
     "output_type": "stream",
     "text": [
      "Feature matrix shape: (6691, 1595)\n"
     ]
    }
   ],
   "source": [
    "vectorizer = CountVectorizer(tokenizer=lambda x: x.split(), stop_words='english', token_pattern=None)\n",
    "\n",
    "# Fit and transform the processed ingredients\n",
    "ingredient_matrix = vectorizer.fit_transform(recipes_df['Ingredients'])\n",
    "\n",
    "# Check the shape of the feature matrix\n",
    "print(f\"Feature matrix shape: {ingredient_matrix.shape}\")"
   ]
  },
  {
   "cell_type": "code",
   "execution_count": 15,
   "id": "71bfe00a-7700-48bf-a905-49a84c3f3c95",
   "metadata": {},
   "outputs": [],
   "source": [
    "def recommend_recipes_by_ingredients(input_ingredients, top_n=5):\n",
    "    # Preprocess user input\n",
    "    user_ingredients = set(map(str.strip, input_ingredients.lower().split(',')))\n",
    "    \n",
    "    recommendations = []\n",
    "\n",
    "    for index, row in recipes_df.iterrows():\n",
    "        # Process recipe ingredients\n",
    "        recipe_ingredients = set(map(str.strip, row['Ingredients'].lower().split(',')))\n",
    "        \n",
    "        # Check if all user ingredients are present in the recipe\n",
    "        if user_ingredients.issubset(recipe_ingredients):\n",
    "            # Calculate extra ingredients\n",
    "            extra_ingredients = list(recipe_ingredients - user_ingredients)\n",
    "            extra_ingredients_count = len(extra_ingredients)\n",
    "            recommendations.append({\n",
    "                'Recipe Name': row['Recipe Name'],\n",
    "                'Extra Ingredients Count': extra_ingredients_count,\n",
    "                'Extra Ingredients': ', '.join(extra_ingredients),  # Corrected key\n",
    "                'Link': row['Link']\n",
    "            })\n",
    "\n",
    "    # Sort by extra ingredients count (ascending)\n",
    "    recommendations = sorted(recommendations, key=lambda x: x['Extra Ingredients Count'])\n",
    "    \n",
    "    # Return the top N recipes\n",
    "    return pd.DataFrame(recommendations[:top_n])\n"
   ]
  },
  {
   "cell_type": "code",
   "execution_count": 16,
   "id": "4df1b4c5-60c4-475b-8166-a54cb8ceef7d",
   "metadata": {},
   "outputs": [
    {
     "name": "stdout",
     "output_type": "stream",
     "text": [
      "                                         Recipe Name  Extra Ingredients Count  \\\n",
      "0                         saffron paneer peda recipe                        5   \n",
      "1  manda pitha recipe orissa style steamed rice f...                        7   \n",
      "2                     eggless paan cheesecake recipe                        7   \n",
      "3                                   dry jamun recipe                        7   \n",
      "4                  corn   paneer baked samosa recipe                        7   \n",
      "\n",
      "                                   Extra Ingredients  \\\n",
      "0  cardamom powder, saffron strands, rose water, ...   \n",
      "1  salt, cardamom powder, rice flour, milk, fresh...   \n",
      "2  agar agar, caster sugar, vanilla extract, gulk...   \n",
      "3  dessicated coconut, cardamom powder, milk powd...   \n",
      "4  salt, carom seeds, coriander leaves, sweet cor...   \n",
      "\n",
      "                                                Link  \n",
      "0  https://www.archanaskitchen.com/saffron-paneer...  \n",
      "1  https://www.archanaskitchen.com/manda-pitha-re...  \n",
      "2  https://www.archanaskitchen.com/eggless-paan-c...  \n",
      "3   https://www.archanaskitchen.com/dry-jamun-recipe  \n",
      "4  https://www.archanaskitchen.com/corn-paneer-ba...  \n"
     ]
    }
   ],
   "source": [
    "input_ingredients = \"paneer,water\"\n",
    "ingredient_recommendations = recommend_recipes_by_ingredients(input_ingredients, top_n=5)\n",
    "print(ingredient_recommendations)"
   ]
  },
  {
   "cell_type": "code",
   "execution_count": null,
   "id": "020cfd75-6885-4043-8d20-7055b3a4eeb9",
   "metadata": {},
   "outputs": [],
   "source": []
  }
 ],
 "metadata": {
  "kernelspec": {
   "display_name": "Python 3 (ipykernel)",
   "language": "python",
   "name": "python3"
  },
  "language_info": {
   "codemirror_mode": {
    "name": "ipython",
    "version": 3
   },
   "file_extension": ".py",
   "mimetype": "text/x-python",
   "name": "python",
   "nbconvert_exporter": "python",
   "pygments_lexer": "ipython3",
   "version": "3.12.7"
  }
 },
 "nbformat": 4,
 "nbformat_minor": 5
}
