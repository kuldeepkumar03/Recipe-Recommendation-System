{
 "cells": [
  {
   "cell_type": "code",
   "execution_count": 1,
   "id": "9396e2f2-cdb5-48fb-a292-84d25337ab77",
   "metadata": {},
   "outputs": [],
   "source": [
    "import pandas as pd\n",
    "import numpy as np\n",
    "import requests\n",
    "from bs4 import BeautifulSoup"
   ]
  },
  {
   "cell_type": "code",
   "execution_count": 2,
   "id": "8de6ee16-2b4b-4ffc-a86e-627e8cc30d38",
   "metadata": {},
   "outputs": [],
   "source": [
    "url = \"https://www.archanaskitchen.com/karwar-style-valval-recipe-mixed-vegetables-in-coconut-milk\""
   ]
  },
  {
   "cell_type": "code",
   "execution_count": 3,
   "id": "6b67217d-10ca-419d-9ecb-bb1346b59f00",
   "metadata": {},
   "outputs": [
    {
     "data": {
      "text/plain": [
       "<Response [200]>"
      ]
     },
     "execution_count": 3,
     "metadata": {},
     "output_type": "execute_result"
    }
   ],
   "source": [
    "page = requests.get(url)\n",
    "page"
   ]
  },
  {
   "cell_type": "code",
   "execution_count": 5,
   "id": "634aac7c-e5bf-4178-b2a6-64e4625e14d8",
   "metadata": {},
   "outputs": [
    {
     "name": "stdout",
     "output_type": "stream",
     "text": [
      "Recipe Name: Karwar Style Valval Recipe (Mixed Vegetables In Coconut Milk)\n"
     ]
    }
   ],
   "source": [
    "if page.status_code == 200:\n",
    "    # Parse HTML content\n",
    "    soup = BeautifulSoup(page.text, 'html.parser')\n",
    "    \n",
    "    # Find the meta tag with the specific attribute\n",
    "    Rname = soup.find('meta', attrs={'name': 'twitter:title'})\n",
    "    \n",
    "    # Extract and display the recipe name\n",
    "    if Rname and 'content' in Rname.attrs:\n",
    "        recipe_name = Rname['content']\n",
    "        print(f\"Recipe Name: {recipe_name}\")"
   ]
  },
  {
   "cell_type": "code",
   "execution_count": 16,
   "id": "73042ebd-4fd6-4deb-bb1c-829e3add43bb",
   "metadata": {},
   "outputs": [
    {
     "name": "stdout",
     "output_type": "stream",
     "text": [
      "Recipe Name: Karwar Style Valval Recipe (Mixed Vegetables In Coconut Milk)\n",
      "Quantity: 1 cup\n",
      "Item: Green beans (French Beans)\n",
      "Quantity: 1\n",
      "Item: Carrot (Gajjar)\n",
      "Quantity: 1/2\n",
      "Item: Green peas (Matar)\n",
      "Quantity: 1\n",
      "Item: Potato (Aloo)\n",
      "Quantity: 1/2\n",
      "Item: Mangalorean cucumber\n",
      "Quantity: 1 cup\n",
      "Item: Pointed gourd (Parval)\n",
      "Quantity: 5\n",
      "Item: Green Chillies\n",
      "Quantity: 3 cups\n",
      "Item: Coconut milk\n",
      "Quantity: 1/2 teaspoon\n",
      "Item: Mustard seeds (Rai/ Kadugu)\n",
      "Quantity: 1-1/2 teaspoon\n",
      "Item: Cumin seeds (Jeera)\n",
      "Quantity: 2\n",
      "Item: Dry Red Chilli\n",
      "Quantity: 1 tablespoon\n",
      "Item: Coconut Oil\n",
      "Quantity: 6\n",
      "Item: Curry leaves\n"
     ]
    }
   ],
   "source": [
    "# Find the ingredients list\n",
    "ingredient_list = soup.find('ul', class_='list-unstyled')\n",
    "\n",
    "ingredients = []  # List to store extracted ingredients\n",
    "\n",
    "if ingredient_list:\n",
    "    # Iterate over each ingredient <li> tag\n",
    "    for item in ingredient_list.find_all('li', itemprop='ingredients'):\n",
    "        # Extract quantity (text before <span>)\n",
    "        quantity = item.contents[0].strip() if item.contents else None\n",
    "\n",
    "        # Extract item name (text inside <span>)\n",
    "        name_tag = item.find('span', class_='ingredient_name')\n",
    "        name = name_tag.text.strip() if name_tag else None\n",
    "\n",
    "        # Append to the ingredients list if both quantity and name are available\n",
    "        if quantity and name:\n",
    "            ingredients.append({'rquant': quantity, 'ritem': name})\n",
    "\n",
    "# Print extracted ingredients\n",
    "print(f\"Recipe Name: {recipe_name}\")\n",
    "for ingredient in ingredients:\n",
    "    print(f\"Quantity: {ingredient['rquant']}\")\n",
    "    print(f\"Item: {ingredient['ritem']}\")\n"
   ]
  },
  {
   "cell_type": "code",
   "execution_count": null,
   "id": "0d46028f-0f8b-449d-851d-b361ee88c89b",
   "metadata": {},
   "outputs": [],
   "source": []
  }
 ],
 "metadata": {
  "kernelspec": {
   "display_name": "Python 3 (ipykernel)",
   "language": "python",
   "name": "python3"
  },
  "language_info": {
   "codemirror_mode": {
    "name": "ipython",
    "version": 3
   },
   "file_extension": ".py",
   "mimetype": "text/x-python",
   "name": "python",
   "nbconvert_exporter": "python",
   "pygments_lexer": "ipython3",
   "version": "3.12.7"
  }
 },
 "nbformat": 4,
 "nbformat_minor": 5
}
